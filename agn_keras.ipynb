{
 "cells": [
  {
   "cell_type": "code",
   "execution_count": 1,
   "metadata": {},
   "outputs": [
    {
     "name": "stderr",
     "output_type": "stream",
     "text": [
      "/Library/Frameworks/Python.framework/Versions/3.6/lib/python3.6/site-packages/h5py/__init__.py:36: FutureWarning: Conversion of the second argument of issubdtype from `float` to `np.floating` is deprecated. In future, it will be treated as `np.float64 == np.dtype(float).type`.\n",
      "  from ._conv import register_converters as _register_converters\n",
      "Using TensorFlow backend.\n"
     ]
    }
   ],
   "source": [
    "#########################\n",
    "##  agn_keras          ##\n",
    "##  Yu-Yen Chang       ##\n",
    "##  2019.08.25         ##\n",
    "#########################\n",
    "\n",
    "import numpy as np\n",
    "import os.path\n",
    "from astropy.io import fits, ascii\n",
    "from astropy.table import Table, Column, MaskedColumn\n",
    "from sklearn import metrics\n",
    "from sklearn.model_selection import train_test_split\n",
    "from sklearn.metrics import roc_curve, auc, roc_auc_score\n",
    "from sklearn.metrics import precision_recall_curve\n",
    "from sklearn.metrics import average_precision_score\n",
    "from keras.models import Sequential\n",
    "from keras.layers import Dense, Dropout, Activation, Flatten\n",
    "from keras.layers import Convolution2D, MaxPooling2D, Convolution1D, MaxPooling1D\n",
    "from keras.utils import np_utils\n",
    "from keras.datasets import mnist\n",
    "from keras.optimizers import SGD\n",
    "import matplotlib.pyplot as plt\n",
    "import matplotlib.colors as colors\n",
    "from matplotlib.pyplot import matshow"
   ]
  },
  {
   "cell_type": "code",
   "execution_count": 2,
   "metadata": {},
   "outputs": [],
   "source": [
    "class AGN:\n",
    "\n",
    "\tkind = 'AGN'\n",
    "\n",
    "\tdef __init__(self, name):\n",
    "\t\tself.name = name    # instance variable unique to each instance\n",
    "\n",
    "\tdef ml_keras(self, agnf0, mag00, inp):\n",
    "\n",
    "\t\tep = 1000            # epochs for model fit\n",
    "\t\t## ========== Keras model ==========\n",
    "\n",
    "\t\t## split data into X and y\n",
    "\t\tX = np.zeros((len(mag00), inp, 1))\n",
    "\t\tX[:,:,0] = mag00\n",
    "\t\tY = agnf0\n",
    "\t\t\n",
    "\t\t## split data into train and test sets\n",
    "\t\tself.X_train, self.X_test, self.y_train, self.y_test = train_test_split(X, Y, test_size=0.33, random_state=4)\n",
    "\n",
    "\t\t## imbalance class (Over-sampling)\n",
    "\t\ti_agn = np.where(self.y_train == 1) \n",
    "\t\ti_ran = np.random.choice(i_agn[0], self.y_train.size)\n",
    "\t\tself.y_train = np.append(self.y_train, self.y_train[i_ran])\n",
    "\t\tself.X_train = np.concatenate((self.X_train, self.X_train[i_ran,:]))\n",
    "\n",
    "\t\t## preprocess input data\n",
    "\t\tself.X_train = self.X_train.astype('float32')\n",
    "\t\tself.X_test = self.X_test.astype('float32')\n",
    "\t\txmax=np.nanmax(self.X_train)\n",
    "\t\txmin=np.nanmin(self.X_train)\n",
    "\t\tself.X_train = (self.X_train-xmin)/(xmax-xmin)\n",
    "\t\tself.X_test = (self.X_test-xmin)/(xmax-xmin)\n",
    "\t\t \n",
    "\t\t## preprocess class labels: AGN fraction\n",
    "\t\tself.Y_train = np_utils.to_categorical(self.y_train, 2)\n",
    "\t\tself.Y_test = np_utils.to_categorical(self.y_test, 2)\n",
    "\n",
    "\t\t## define model architecture\n",
    "\t\tmodel = Sequential()\n",
    "\t\tmodel.add(Convolution1D(32, 3, border_mode='same', input_shape=(inp, 1)))\n",
    "\t\tmodel.add(Convolution1D(32, 3, border_mode='same'))\n",
    "\t\tmodel.add(Flatten())\n",
    "\t\tmodel.add(Dense(128, activation='relu'))\n",
    "\t\tmodel.add(Dropout(0.5))\n",
    "\t\tmodel.add(Dense(2, activation='softmax'))\n",
    "\n",
    "\t\t## compile model\n",
    "\t\tmodel.compile(loss='categorical_crossentropy',\n",
    "\t\t              optimizer='RMSprop',\n",
    "\t\t              metrics=['accuracy'])\n",
    "\t\t             \n",
    "\t\t## fit model on training data\n",
    "\t\thistory = model.fit(self.X_train, self.Y_train, validation_split=0.33, epochs=ep, batch_size=32, verbose=0)\n",
    "\n",
    "\t\t## evaluate model on test data\n",
    "\t\tscore = model.evaluate(self.X_test, self.Y_test, verbose=0)\n",
    "\n",
    "\t\t## predict Y value vs real Y test value\n",
    "\t\tself.Y_predict = model.predict(self.X_test, batch_size=32, verbose=0, steps=None)\n",
    "\t\tself.y_predict=np.argmax(self.Y_predict ,axis=1)\n",
    "\n",
    "\t\t## ROC curve\n",
    "\t\tself.fpr = dict()\n",
    "\t\tself.tpr = dict()\n",
    "\t\tself.roc_auc = dict()\n",
    "\t\tfor i in range(2):\n",
    "\t\t    self.fpr[i], self.tpr[i], _ = roc_curve(self.y_test, self.Y_predict[:,1])\n",
    "\t\t    self.roc_auc[i] = auc(self.fpr[i], self.tpr[i])\n",
    "\n",
    "\t\t## Precision Recall curve\n",
    "\t\tself.average_precision = average_precision_score(self.y_test,  self.Y_predict[:,1])\n",
    "\t\tself.precision, self.recall, _ = precision_recall_curve(self.y_test, self.Y_predict[:,1])\n",
    "\t    \n",
    "\t    ## Ouputs\n",
    "\t\tself.acc = '{:02.5f}'.format(metrics.accuracy_score(self.y_test, self.y_predict))\n",
    "\t\tself.p = '{:02.5f}'.format(metrics.precision_score(self.y_test, self.y_predict, average='macro'))\n",
    "\t\tself.r = '{:02.5f}'.format(metrics.recall_score(self.y_test, self.y_predict, average='macro'))\n",
    "\t\tself.f1 = '{:02.5f}'.format(metrics.f1_score(self.y_test, self.y_predict, average='macro'))\n",
    "\t\tself.roc = '{:02.5f}'.format(self.roc_auc[1])\n",
    "\t\tself.ap = '{:02.5f}'.format(self.average_precision)\n",
    "\n",
    "\t\treturn [self.acc, self.p, self.r, self.f1, self.roc, self.ap]"
   ]
  },
  {
   "cell_type": "code",
   "execution_count": 3,
   "metadata": {},
   "outputs": [
    {
     "name": "stdout",
     "output_type": "stream",
     "text": [
      " NUMBER agn_x agn_ir agn_r ... w1mpro w1sigmpro w2mpro w2sigmpro\n",
      "------- ----- ------ ----- ... ------ --------- ------ ---------\n",
      " 261096     0      0     0 ... 15.558     0.045 15.371     0.103\n",
      " 265378     0      0     0 ... 16.874     0.115 16.497     0.293\n",
      " 269798     0      0     0 ... 15.034     0.036 14.561     0.059\n",
      " 270407     0      0     0 ... 16.074     0.062 15.833     0.165\n",
      " 270425     0      0     0 ... 16.303      0.08 16.126     0.219\n",
      " 270519     0      0     0 ... 16.388     0.077 16.375     0.257\n",
      " 270628     0      0     0 ... 16.074     0.062 15.833     0.165\n",
      " 270653     0      0     0 ... 16.898     0.122 16.276     0.248\n",
      " 270830     0      0     0 ... 16.667     0.087 16.442     0.259\n",
      " 270945     0      0     0 ... 14.613     0.031 14.739     0.065\n",
      "    ...   ...    ...   ... ...    ...       ...    ...       ...\n",
      "1162372     0      0     0 ... 15.913     0.057 15.608     0.128\n",
      "1162386     0      0     0 ... 14.128     0.027 14.261      0.05\n",
      "1162458     0      0     0 ... 14.088     0.034 13.645     0.041\n",
      "1162529     0      0     0 ... 14.896     0.055 14.504     0.074\n",
      "1162643     0      0     0 ... 17.058     0.124 16.228     0.214\n",
      "1162756     0      0     0 ... 16.862     0.116   16.4     0.268\n",
      "1162964     0      0     0 ... 15.372     0.043 15.345     0.109\n",
      "1164662     0      0     0 ... 14.896     0.055 14.504     0.074\n",
      "1165103     0      0     0 ... 16.893     0.121  17.06     0.473\n",
      "1176150     0      0     0 ...  16.81     0.112 16.286     0.239\n",
      "1181255     0      0     0 ... 17.027     0.123 15.809     0.153\n",
      "Length = 8223 rows\n"
     ]
    },
    {
     "data": {
      "text/plain": [
       "(8223, 15)"
      ]
     },
     "execution_count": 3,
     "metadata": {},
     "output_type": "execute_result"
    }
   ],
   "source": [
    "## read fits file & data\n",
    "hdul = fits.open('_agn_sel.fits')\n",
    "data = hdul[1].data\n",
    "header = hdul[1].header\n",
    "ID = data['NUMBER']\n",
    "gflux = data['g_cmodel_flux']\n",
    "rflux = data['r_cmodel_flux']\n",
    "iflux = data['i_cmodel_flux']\n",
    "zflux = data['z_cmodel_flux']\n",
    "yflux = data['y_cmodel_flux']\n",
    "gflux_e = data['g_cmodel_fluxsigma']\n",
    "rflux_e = data['r_cmodel_fluxsigma']\n",
    "iflux_e = data['i_cmodel_fluxsigma']\n",
    "zflux_e = data['z_cmodel_fluxsigma']\n",
    "yflux_e = data['y_cmodel_fluxsigma']\n",
    "redshift = data['photoz_best']\n",
    "w1mag = data['w1mpro']\n",
    "w2mag = data['w2mpro']\n",
    "w1mag_e = data['w1sigmpro']\n",
    "w2mag_e = data['w2sigmpro']\n",
    "\n",
    "## choose data sets\n",
    "##------HSC only------\n",
    "#mag00 = np.column_stack((gflux, rflux, iflux, zflux, yflux, gflux_e, rflux_e, iflux_e, zflux_e, yflux_e, redshift)) \n",
    "#inp = 11\n",
    "##------HSC+W12------\n",
    "mag00 = np.column_stack((gflux, rflux, iflux, zflux, yflux, gflux_e, rflux_e, iflux_e, zflux_e, yflux_e, redshift, \n",
    "                         w1mag, w2mag, w1mag_e, w2mag_e))\n",
    "inp = 15\n",
    "\n",
    "print(ascii.read(\"_agn_sel.cat\") )\n",
    "mag00.shape"
   ]
  },
  {
   "cell_type": "code",
   "execution_count": 4,
   "metadata": {},
   "outputs": [
    {
     "name": "stderr",
     "output_type": "stream",
     "text": [
      "/Library/Frameworks/Python.framework/Versions/3.6/lib/python3.6/site-packages/ipykernel_launcher.py:41: UserWarning: Update your `Conv1D` call to the Keras 2 API: `Conv1D(32, 3, input_shape=(15, 1), padding=\"same\")`\n",
      "/Library/Frameworks/Python.framework/Versions/3.6/lib/python3.6/site-packages/ipykernel_launcher.py:42: UserWarning: Update your `Conv1D` call to the Keras 2 API: `Conv1D(32, 3, padding=\"same\")`\n"
     ]
    },
    {
     "name": "stdout",
     "output_type": "stream",
     "text": [
      "Accuracy Precision  Recall F1 Score  AUROC     AP  \n",
      "-------- --------- ------- -------- ------- -------\n",
      " 0.94915   0.56111 0.58707  0.57122 0.73775 0.11223\n",
      " 0.97163   0.61262 0.64374  0.62610 0.80947 0.13302\n",
      " 0.78371   0.57059 0.62012  0.57880 0.71061 0.19610\n"
     ]
    }
   ],
   "source": [
    "#---XAGN---\n",
    "indtf = np.where(data['agn_x'] == 1)\n",
    "agnf0 = np.zeros(len(redshift))\n",
    "agnf0[indtf] = 1\n",
    "agn1 = AGN('XAGN')\n",
    "output_agn1 = agn1.ml_keras(agnf0, mag00, inp)\n",
    "\n",
    "#---IRAGN---\n",
    "indtf = np.where(data['agn_ir'] == 1)\n",
    "agnf0 = np.zeros(len(redshift))\n",
    "agnf0[indtf] = 1\n",
    "agn2 = AGN('IRAGN')\n",
    "output_agn2 = agn1.ml_keras(agnf0, mag00, inp)\n",
    "\n",
    "#---RAGN---\n",
    "indtf = np.where(data['agn_r'] == 1)\n",
    "agnf0 = np.zeros(len(redshift))\n",
    "agnf0[indtf] = 1\n",
    "agn3 = AGN('RAGN')\n",
    "output_agn3 = agn1.ml_keras(agnf0, mag00, inp)\n",
    "\n",
    "output = Table(rows=[output_agn1, output_agn2, output_agn3], \n",
    "               names=['Accuracy', 'Precision', 'Recall', 'F1 Score', 'AUROC', 'AP'])\n",
    "print(output)"
   ]
  },
  {
   "cell_type": "code",
   "execution_count": 5,
   "metadata": {},
   "outputs": [
    {
     "data": {
      "image/png": "[encoded data removed]",
      "text/plain": [
       "<Figure size 432x288 with 1 Axes>"
      ]
     },
     "metadata": {
      "needs_background": "light"
     },
     "output_type": "display_data"
    }
   ],
   "source": [
    "plt.plot(agn1.fpr[1], agn1.tpr[1], color='darkorange', label='ROC curve (area = %0.2f)' % agn1.roc_auc[1])\n",
    "plt.plot([0, 1], [0, 1], color='navy', linestyle='--')\n",
    "plt.xlim([0.0, 1.0])\n",
    "plt.ylim([0.0, 1.05])\n",
    "plt.xlabel('False Positive Rate')\n",
    "plt.ylabel('True Positive Rate')\n",
    "plt.title('Receiver operating characteristic example')\n",
    "plt.legend(loc=\"lower right\")\n",
    "plt.show()"
   ]
  },
  {
   "cell_type": "code",
   "execution_count": 6,
   "metadata": {},
   "outputs": [
    {
     "data": {
      "image/png": "[encoded data removed]",
      "text/plain": [
       "<Figure size 432x288 with 1 Axes>"
      ]
     },
     "metadata": {
      "needs_background": "light"
     },
     "output_type": "display_data"
    }
   ],
   "source": [
    "plt.step(agn1.recall, agn1.precision, color='b', alpha=0.2, where='post')\n",
    "plt.fill_between(agn1.recall, agn1.precision, alpha=0.2, color='b')\n",
    "plt.xlabel('Recall')\n",
    "plt.ylabel('Precision')\n",
    "plt.ylim([0.0, 1.05])\n",
    "plt.xlim([0.0, 1.0])\n",
    "plt.title('2-class Precision-Recall curve: AP={0:0.2f}'.format(agn1.average_precision))\n",
    "plt.show()"
   ]
  },
  {
   "cell_type": "code",
   "execution_count": 7,
   "metadata": {},
   "outputs": [
    {
     "data": {
      "image/png": "[encoded data removed]",
      "text/plain": [
       "<Figure size 288x288 with 2 Axes>"
      ]
     },
     "metadata": {
      "needs_background": "light"
     },
     "output_type": "display_data"
    }
   ],
   "source": [
    "mt = metrics.confusion_matrix(agn1.y_test, agn1.y_predict)\n",
    "m = mt/np.max(mt)\n",
    "plt.matshow(m,cmap=plt.get_cmap('rainbow'), norm=colors.LogNorm(vmin=1e-4, vmax=1))\n",
    "plt.colorbar()\n",
    "plt.title('Normalized confusion matrix', pad=10)\n",
    "plt.xlabel('predicted value')\n",
    "plt.ylabel('true value')\n",
    "plt.xticks([0, 0.5, 1], ['0', '0.5', '1'])\n",
    "plt.yticks([0, 0.5, 1], ['0', '0.5', '1'])\n",
    "plt.show()"
   ]
  }
 ],
 "metadata": {
  "kernelspec": {
   "display_name": "Python 3",
   "language": "python",
   "name": "python3"
  },
  "language_info": {
   "codemirror_mode": {
    "name": "ipython",
    "version": 3
   },
   "file_extension": ".py",
   "mimetype": "text/x-python",
   "name": "python",
   "nbconvert_exporter": "python",
   "pygments_lexer": "ipython3",
   "version": "3.6.5"
  }
 },
 "nbformat": 4,
 "nbformat_minor": 2
}
